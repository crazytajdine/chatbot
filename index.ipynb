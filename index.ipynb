{
 "cells": [
  {
   "cell_type": "code",
   "execution_count": 59,
   "metadata": {},
   "outputs": [],
   "source": [
    "import json\n",
    "import nltk \n",
    "import tensorflow\n",
    "import numpy as np\n",
    "from tensorflow.keras.layers import Dense\n",
    "stemmer = nltk.stem.LancasterStemmer()\n"
   ]
  },
  {
   "cell_type": "code",
   "execution_count": 18,
   "metadata": {},
   "outputs": [
    {
     "ename": "NameError",
     "evalue": "name 'json' is not defined",
     "output_type": "error",
     "traceback": [
      "\u001b[1;31m---------------------------------------------------------------------------\u001b[0m",
      "\u001b[1;31mNameError\u001b[0m                                 Traceback (most recent call last)",
      "Cell \u001b[1;32mIn[18], line 9\u001b[0m\n\u001b[0;32m      7\u001b[0m     dataset[\u001b[38;5;28mtype\u001b[39m] \u001b[38;5;241m=\u001b[39m data\n\u001b[0;32m      8\u001b[0m \u001b[38;5;28;01mwith\u001b[39;00m \u001b[38;5;28mopen\u001b[39m(\u001b[38;5;124m\"\u001b[39m\u001b[38;5;124mdataset.json\u001b[39m\u001b[38;5;124m\"\u001b[39m,\u001b[38;5;124m\"\u001b[39m\u001b[38;5;124mw\u001b[39m\u001b[38;5;124m\"\u001b[39m) \u001b[38;5;28;01mas\u001b[39;00m js:\n\u001b[1;32m----> 9\u001b[0m     json\u001b[38;5;241m.\u001b[39mdump(dataset,js)\n",
      "\u001b[1;31mNameError\u001b[0m: name 'json' is not defined"
     ]
    }
   ],
   "source": [
    "dataset = {}\n",
    "while(input(\"quit?:\") != \"y\"):\n",
    "    data = {}\n",
    "    type =  input(\"type :\")\n",
    "    data[\"urmsg\"] =  input(\"you :\")\n",
    "    data[\"mymsg\"] =  input(\"bot :\")\n",
    "    dataset[type] = data\n",
    "with open(\"dataset.json\",\"w\") as js:\n",
    "    json.dump(dataset,js)"
   ]
  },
  {
   "cell_type": "code",
   "execution_count": 21,
   "metadata": {},
   "outputs": [],
   "source": [
    "with open(\"dataset.json\",\"r\") as js:\n",
    "    datas = json.load(js)"
   ]
  },
  {
   "cell_type": "code",
   "execution_count": null,
   "metadata": {},
   "outputs": [
    {
     "data": {
      "text/plain": [
       "[{'tag': 'greeting',\n",
       "  'urmsg': 'hello there',\n",
       "  'mymsg': 'hi ,how can i help you today.'},\n",
       " {'tag': 'checking',\n",
       "  'urmsg': 'how are you ',\n",
       "  'mymsg': 'i am doing great ,what about you ?'},\n",
       " {'tag': 'reasure',\n",
       "  'urmsg': 'i am doing great ,thank you ',\n",
       "  'mymsg': 'how can i help you today'},\n",
       " {'tag': 'price', 'urmsg': 'how much for one?', 'mymsg': '2 dh for one '}]"
      ]
     },
     "execution_count": 9,
     "metadata": {},
     "output_type": "execute_result"
    }
   ],
   "source": [
    "data"
   ]
  },
  {
   "cell_type": "code",
   "execution_count": 58,
   "metadata": {},
   "outputs": [
    {
     "data": {
      "text/plain": [
       "['At',\n",
       " 'eight',\n",
       " \"o'clock\",\n",
       " 'on',\n",
       " 'Thursday',\n",
       " 'morning',\n",
       " 'Arthur',\n",
       " 'did',\n",
       " \"n't\",\n",
       " 'feel',\n",
       " 'very',\n",
       " 'good',\n",
       " '.']"
      ]
     },
     "execution_count": 58,
     "metadata": {},
     "output_type": "execute_result"
    }
   ],
   "source": [
    "sentence = \"\"\"At eight o'clock on Thursday morning\n",
    "... Arthur didn't feel very good.\"\"\"\n",
    "tokens = nltk.word_tokenize(sentence)\n",
    "tokens"
   ]
  },
  {
   "cell_type": "code",
   "execution_count": 62,
   "metadata": {},
   "outputs": [
    {
     "data": {
      "text/plain": [
       "['at',\n",
       " 'eight',\n",
       " \"o'clock\",\n",
       " 'on',\n",
       " 'thursday',\n",
       " 'morn',\n",
       " 'arth',\n",
       " 'did',\n",
       " \"n't\",\n",
       " 'feel',\n",
       " 'very',\n",
       " 'good',\n",
       " '.']"
      ]
     },
     "execution_count": 62,
     "metadata": {},
     "output_type": "execute_result"
    }
   ],
   "source": [
    "[stemmer.stem(token.lower()) for token in tokens ]"
   ]
  },
  {
   "cell_type": "code",
   "execution_count": 67,
   "metadata": {},
   "outputs": [],
   "source": [
    "words = []\n",
    "x=[]\n",
    "y=[]\n",
    "for data in datas :\n",
    "    wrds =nltk.word_tokenize(data[\"urmsg\"])\n",
    "    wrds = [stemmer.stem(elm.lower()) for elm in  list(filter(lambda x: x.isalnum() , wrds))]\n",
    "    words.extend(wrds)\n",
    "    x.append(wrds)\n",
    "    y.append(data[\"mymsg\"])\n",
    "words = sorted(list(set(words)))"
   ]
  },
  {
   "cell_type": "code",
   "execution_count": 68,
   "metadata": {},
   "outputs": [],
   "source": [
    "xs = []\n",
    "for urmsg in x : \n",
    "    sol = [1 if(word in urmsg) else 0  for word in words]\n",
    "    xs.append(sol)"
   ]
  },
  {
   "cell_type": "code",
   "execution_count": 71,
   "metadata": {},
   "outputs": [],
   "source": [
    "xs = np.array(xs)\n",
    "y= np.array(xs)"
   ]
  },
  {
   "cell_type": "code",
   "execution_count": 72,
   "metadata": {},
   "outputs": [
    {
     "name": "stdout",
     "output_type": "stream",
     "text": [
      "WARNING:tensorflow:From c:\\Users\\TAJ\\anaconda3\\Lib\\site-packages\\keras\\src\\utils\\version_utils.py:76: The name tf.executing_eagerly_outside_functions is deprecated. Please use tf.compat.v1.executing_eagerly_outside_functions instead.\n",
      "\n"
     ]
    }
   ],
   "source": [
    "model = tensorflow.keras.Sequential()\n",
    "model.add(Input())"
   ]
  },
  {
   "cell_type": "code",
   "execution_count": null,
   "metadata": {},
   "outputs": [],
   "source": []
  },
  {
   "cell_type": "code",
   "execution_count": null,
   "metadata": {},
   "outputs": [],
   "source": []
  }
 ],
 "metadata": {
  "kernelspec": {
   "display_name": "base",
   "language": "python",
   "name": "python3"
  },
  "language_info": {
   "codemirror_mode": {
    "name": "ipython",
    "version": 3
   },
   "file_extension": ".py",
   "mimetype": "text/x-python",
   "name": "python",
   "nbconvert_exporter": "python",
   "pygments_lexer": "ipython3",
   "version": "3.11.5"
  }
 },
 "nbformat": 4,
 "nbformat_minor": 2
}
